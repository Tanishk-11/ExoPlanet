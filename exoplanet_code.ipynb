{
 "cells": [
  {
   "cell_type": "code",
   "execution_count": 1,
   "metadata": {},
   "outputs": [],
   "source": [
    "import numpy as np \n",
    "import matplotlib.pyplot as plt \n",
    "import pandas as pd "
   ]
  },
  {
   "cell_type": "code",
   "execution_count": 2,
   "id": "ffa51c09",
   "metadata": {},
   "outputs": [],
   "source": [
    "from sklearn.mixture import GaussianMixture\n",
    "from sklearn.preprocessing import StandardScaler"
   ]
  },
  {
   "cell_type": "code",
   "execution_count": 3,
   "id": "97eea6c4",
   "metadata": {},
   "outputs": [],
   "source": [
    "df= pd.read_csv('exoplanets.csv')"
   ]
  },
  {
   "cell_type": "code",
   "execution_count": 4,
   "id": "00288160",
   "metadata": {},
   "outputs": [
    {
     "data": {
      "application/vnd.microsoft.datawrangler.viewer.v0+json": {
       "columns": [
        {
         "name": "index",
         "rawType": "int64",
         "type": "integer"
        },
        {
         "name": "Planet Name",
         "rawType": "object",
         "type": "string"
        },
        {
         "name": "Mass",
         "rawType": "float64",
         "type": "float"
        },
        {
         "name": "Radius",
         "rawType": "float64",
         "type": "float"
        },
        {
         "name": "Temperature",
         "rawType": "float64",
         "type": "float"
        },
        {
         "name": "Orbital Period",
         "rawType": "float64",
         "type": "float"
        },
        {
         "name": "Stellar Temperature",
         "rawType": "float64",
         "type": "float"
        }
       ],
       "ref": "4fa0b9f2-8e42-4a4b-9df8-53542522ac63",
       "rows": [
        [
         "0",
         "BD-14 3065 b",
         "3932.0",
         "21.59",
         "2001.0",
         "4.2889731",
         "6935.0"
        ],
        [
         "1",
         "CFHTWIR-Oph 98 b",
         "2479.0615746",
         "20.8487041",
         "1800.0",
         "8040000.0",
         "2320.0"
        ],
        [
         "2",
         "CoRoT-1 b",
         "327.35",
         "16.7",
         "1898.0",
         "1.5089557",
         "5950.0"
        ],
        [
         "3",
         "CoRoT-10 b",
         "874.0",
         "10.87",
         "600.0",
         "13.2406",
         "5075.0"
        ],
        [
         "4",
         "CoRoT-11 b",
         "740.51",
         "16.03",
         "1657.0",
         "2.99433",
         "6440.0"
        ]
       ],
       "shape": {
        "columns": 6,
        "rows": 5
       }
      },
      "text/html": [
       "<div>\n",
       "<style scoped>\n",
       "    .dataframe tbody tr th:only-of-type {\n",
       "        vertical-align: middle;\n",
       "    }\n",
       "\n",
       "    .dataframe tbody tr th {\n",
       "        vertical-align: top;\n",
       "    }\n",
       "\n",
       "    .dataframe thead th {\n",
       "        text-align: right;\n",
       "    }\n",
       "</style>\n",
       "<table border=\"1\" class=\"dataframe\">\n",
       "  <thead>\n",
       "    <tr style=\"text-align: right;\">\n",
       "      <th></th>\n",
       "      <th>Planet Name</th>\n",
       "      <th>Mass</th>\n",
       "      <th>Radius</th>\n",
       "      <th>Temperature</th>\n",
       "      <th>Orbital Period</th>\n",
       "      <th>Stellar Temperature</th>\n",
       "    </tr>\n",
       "  </thead>\n",
       "  <tbody>\n",
       "    <tr>\n",
       "      <th>0</th>\n",
       "      <td>BD-14 3065 b</td>\n",
       "      <td>3932.000000</td>\n",
       "      <td>21.590000</td>\n",
       "      <td>2001.0</td>\n",
       "      <td>4.288973e+00</td>\n",
       "      <td>6935.0</td>\n",
       "    </tr>\n",
       "    <tr>\n",
       "      <th>1</th>\n",
       "      <td>CFHTWIR-Oph 98 b</td>\n",
       "      <td>2479.061575</td>\n",
       "      <td>20.848704</td>\n",
       "      <td>1800.0</td>\n",
       "      <td>8.040000e+06</td>\n",
       "      <td>2320.0</td>\n",
       "    </tr>\n",
       "    <tr>\n",
       "      <th>2</th>\n",
       "      <td>CoRoT-1 b</td>\n",
       "      <td>327.350000</td>\n",
       "      <td>16.700000</td>\n",
       "      <td>1898.0</td>\n",
       "      <td>1.508956e+00</td>\n",
       "      <td>5950.0</td>\n",
       "    </tr>\n",
       "    <tr>\n",
       "      <th>3</th>\n",
       "      <td>CoRoT-10 b</td>\n",
       "      <td>874.000000</td>\n",
       "      <td>10.870000</td>\n",
       "      <td>600.0</td>\n",
       "      <td>1.324060e+01</td>\n",
       "      <td>5075.0</td>\n",
       "    </tr>\n",
       "    <tr>\n",
       "      <th>4</th>\n",
       "      <td>CoRoT-11 b</td>\n",
       "      <td>740.510000</td>\n",
       "      <td>16.030000</td>\n",
       "      <td>1657.0</td>\n",
       "      <td>2.994330e+00</td>\n",
       "      <td>6440.0</td>\n",
       "    </tr>\n",
       "  </tbody>\n",
       "</table>\n",
       "</div>"
      ],
      "text/plain": [
       "        Planet Name         Mass     Radius  Temperature  Orbital Period  \\\n",
       "0      BD-14 3065 b  3932.000000  21.590000       2001.0    4.288973e+00   \n",
       "1  CFHTWIR-Oph 98 b  2479.061575  20.848704       1800.0    8.040000e+06   \n",
       "2         CoRoT-1 b   327.350000  16.700000       1898.0    1.508956e+00   \n",
       "3        CoRoT-10 b   874.000000  10.870000        600.0    1.324060e+01   \n",
       "4        CoRoT-11 b   740.510000  16.030000       1657.0    2.994330e+00   \n",
       "\n",
       "   Stellar Temperature  \n",
       "0               6935.0  \n",
       "1               2320.0  \n",
       "2               5950.0  \n",
       "3               5075.0  \n",
       "4               6440.0  "
      ]
     },
     "execution_count": 4,
     "metadata": {},
     "output_type": "execute_result"
    }
   ],
   "source": [
    "df.head()"
   ]
  },
  {
   "cell_type": "code",
   "execution_count": 5,
   "id": "82c01cd0",
   "metadata": {},
   "outputs": [
    {
     "data": {
      "text/plain": [
       "Index(['Planet Name', 'Mass', 'Radius', 'Temperature', 'Orbital Period',\n",
       "       'Stellar Temperature'],\n",
       "      dtype='object')"
      ]
     },
     "execution_count": 5,
     "metadata": {},
     "output_type": "execute_result"
    }
   ],
   "source": [
    "df.columns"
   ]
  },
  {
   "cell_type": "code",
   "execution_count": 6,
   "id": "e765c2c3",
   "metadata": {},
   "outputs": [
    {
     "data": {
      "text/plain": [
       "0"
      ]
     },
     "execution_count": 6,
     "metadata": {},
     "output_type": "execute_result"
    }
   ],
   "source": [
    "df.isnull().sum().sum()"
   ]
  },
  {
   "cell_type": "code",
   "execution_count": 7,
   "id": "114711e7",
   "metadata": {},
   "outputs": [],
   "source": [
    "sc= StandardScaler()\n",
    "X= df.drop(columns='Planet Name')"
   ]
  },
  {
   "cell_type": "code",
   "execution_count": 8,
   "id": "5e2bbc8f",
   "metadata": {},
   "outputs": [],
   "source": [
    "X_scaled= sc.fit_transform(X)"
   ]
  },
  {
   "cell_type": "code",
   "execution_count": 9,
   "id": "ac2dec42",
   "metadata": {},
   "outputs": [
    {
     "data": {
      "text/plain": [
       "array([[ 5.16085073e+00,  2.20664503e+00,  1.58990198e+00,\n",
       "        -3.28250999e-02,  1.63277740e+00],\n",
       "       [ 3.07982530e+00,  2.08010617e+00,  1.22033779e+00,\n",
       "         3.05286708e+01, -3.15876748e+00],\n",
       "       [-2.04413531e-03,  1.37192434e+00,  1.40052332e+00,\n",
       "        -3.28356673e-02,  6.10096640e-01],\n",
       "       ...,\n",
       "       [ 7.07876802e-02,  7.02782193e-01,  1.72319943e-01,\n",
       "        -3.28254847e-02,  7.02042596e-02],\n",
       "       [ 1.53208179e+00,  2.48192021e+00,  8.10323793e-01,\n",
       "        -3.28270917e-02,  1.40955267e+00],\n",
       "       [-1.48149670e-01,  1.14830062e+00,  1.11553601e+00,\n",
       "        -3.28305160e-02,  9.21573014e-01]])"
      ]
     },
     "execution_count": 9,
     "metadata": {},
     "output_type": "execute_result"
    }
   ],
   "source": [
    "X_scaled"
   ]
  },
  {
   "cell_type": "code",
   "execution_count": 10,
   "id": "a22ba885",
   "metadata": {},
   "outputs": [
    {
     "name": "stdout",
     "output_type": "stream",
     "text": [
      "\n",
      "Optimal number of clusters found: K = 3\n",
      "\n"
     ]
    }
   ],
   "source": [
    "n_components = np.arange(2, 11)\n",
    "bics = []\n",
    "\n",
    "# Calculate BIC for each K\n",
    "for n in n_components:\n",
    "    gmm = GaussianMixture(n_components=n, random_state=42)\n",
    "    gmm.fit(X_scaled)\n",
    "    bics.append(gmm.bic(X_scaled))\n",
    "\n",
    "# Find the elbow point by looking for the biggest drop in the BIC score\n",
    "# This identifies the point of maximum curvature\n",
    "bic_diffs = np.diff(bics, 2) # The second difference approximates the curvature\n",
    "optimal_k = n_components[np.argmax(bic_diffs) + 1] # +1 to align indices\n",
    "\n",
    "print(f\"\\nOptimal number of clusters found: K = {optimal_k}\\n\")"
   ]
  },
  {
   "cell_type": "code",
   "execution_count": 11,
   "id": "823be888",
   "metadata": {},
   "outputs": [
    {
     "name": "stdout",
     "output_type": "stream",
     "text": [
      "Training final model with 3 clusters...\n",
      "Successfully assigned planets to clusters.\n",
      "\n"
     ]
    }
   ],
   "source": [
    "print(f\"Training final model with {optimal_k} clusters...\")\n",
    "gmm = GaussianMixture(n_components=optimal_k, random_state=42)\n",
    "gmm.fit(X_scaled)\n",
    "\n",
    "# Assign a cluster label to each planet\n",
    "cluster_labels = gmm.predict(X_scaled)\n",
    "X['Cluster'] = cluster_labels\n",
    "\n",
    "print(\"Successfully assigned planets to clusters.\\n\")\n"
   ]
  },
  {
   "cell_type": "code",
   "execution_count": 12,
   "id": "ad6fe9f7",
   "metadata": {},
   "outputs": [
    {
     "data": {
      "text/plain": [
       "array([1, 2, 1, 1, 1, 1, 1, 1, 1, 1, 1, 0, 1, 0, 0, 1, 1, 1, 0, 1, 1, 1,\n",
       "       1, 1, 1, 0, 0, 0, 0, 1, 1, 0, 0, 0, 0, 0, 0, 0, 0, 0, 0, 0, 0, 0,\n",
       "       1, 0, 0, 0, 0, 0, 1, 0, 1, 1, 1, 1, 1, 1, 1, 1, 1, 1, 1, 1, 1, 1,\n",
       "       1, 1, 1, 1, 1, 1, 1, 1, 1, 1, 1, 1, 1, 1, 1, 1, 1, 1, 1, 1, 1, 1,\n",
       "       1, 1, 1, 1, 1, 1, 1, 1, 1, 1, 1, 1, 1, 1, 1, 1, 1, 1, 1, 1, 1, 1,\n",
       "       1, 1, 1, 1, 0, 0, 1, 1, 1, 1, 1, 1, 1, 1, 1, 1, 1, 1, 1, 1, 1, 1,\n",
       "       1, 1, 1, 1, 1, 1, 1, 1, 1, 1, 1, 1, 1, 1, 1, 1, 1, 0, 1, 1, 1, 1,\n",
       "       1, 1, 1, 1, 0, 0, 0, 0, 0, 0, 0, 0, 0, 1, 0, 0, 0, 0, 1, 0, 0, 0,\n",
       "       0, 1, 0, 0, 0, 0, 0, 0, 0, 0, 0, 0, 0, 0, 0, 0, 0, 0, 0, 0, 0, 0,\n",
       "       0, 0, 1, 0, 0, 0, 0, 0, 1, 0, 0, 0, 0, 1, 0, 0, 0, 0, 0, 0, 0, 0,\n",
       "       0, 0, 0, 0, 0, 1, 0, 0, 0, 0, 1, 0, 0, 1, 0, 0, 0, 0, 0, 0, 0, 0,\n",
       "       0, 1, 1, 0, 0, 0, 0, 0, 1, 0, 1, 0, 0, 0, 0, 0, 0, 0, 0, 1, 0, 0,\n",
       "       0, 1, 1, 0, 1, 1, 0, 0, 0, 0, 0, 0, 0, 0, 0, 0, 0, 0, 1, 1, 0, 1,\n",
       "       0, 1, 0, 0, 0, 1, 0, 0, 0, 0, 1, 0, 0, 0, 0, 0, 1, 1, 1, 1, 0, 0,\n",
       "       1, 0, 1, 1, 1, 1, 1, 1, 1, 1, 1, 1, 1, 1, 1, 1, 1, 1, 1, 1, 0, 0,\n",
       "       0, 0, 1, 1, 0, 0, 1, 0, 1, 0, 0, 1, 0, 0, 0, 0, 0, 0, 0, 0, 0, 0,\n",
       "       0, 0, 0, 0, 1, 1, 1, 1, 0, 0, 0, 1, 1, 0, 0, 1, 1, 1, 0, 0, 0, 0,\n",
       "       0, 0, 0, 0, 0, 0, 0, 0, 0, 0, 1, 1, 0, 1, 0, 1, 1, 1, 1, 1, 1, 1,\n",
       "       1, 1, 1, 1, 1, 1, 0, 1, 1, 1, 1, 1, 0, 1, 1, 1, 1, 0, 0, 0, 1, 1,\n",
       "       0, 0, 1, 1, 1, 1, 1, 0, 1, 1, 1, 1, 1, 0, 0, 0, 0, 0, 0, 0, 0, 0,\n",
       "       0, 0, 0, 0, 0, 0, 0, 0, 1, 1, 1, 1, 1, 1, 0, 1, 1, 1, 1, 1, 1, 1,\n",
       "       1, 1, 1, 1, 1, 1, 1, 0, 1, 1, 1, 1, 1, 1, 1, 1, 1, 1, 1, 1, 1, 1,\n",
       "       1, 1, 1, 1, 1, 1, 1, 1, 1, 0, 0, 0, 0, 0, 1, 0, 0, 1, 1, 1, 1, 0,\n",
       "       1, 0, 0, 0, 0, 0, 0, 0, 0, 0, 0, 1, 0, 0, 0, 0, 0, 1, 0, 0, 1, 0,\n",
       "       0, 1, 1, 1, 1, 0, 1, 0, 0, 0, 0, 0, 0, 1, 0, 1, 0, 0, 0, 0, 0, 0,\n",
       "       0, 0, 0, 0, 0, 0, 0, 0, 1, 1, 1, 1, 1, 0, 1, 1, 0, 1, 0, 0, 1, 0,\n",
       "       1, 0, 0, 0, 1, 0, 0, 0, 0, 0, 1, 0, 0, 0, 0, 0, 0, 0, 1, 0, 0, 0,\n",
       "       0, 0, 1, 1, 1, 1, 0, 0, 0, 1, 1, 1, 1, 1, 1, 1, 0, 1, 1, 1, 0, 0,\n",
       "       1, 1, 0, 0, 0, 0, 1, 1, 0, 0, 0, 1, 0, 0, 1, 1, 1, 1, 1, 1, 0, 0,\n",
       "       1, 1, 1, 1, 1, 1, 1, 1, 1, 1, 0, 1, 0, 1, 1, 0, 0, 1, 0, 1, 0, 1,\n",
       "       1, 1, 1, 0, 1, 1, 1, 1, 1, 0, 1, 0, 0, 0, 0, 1, 1, 1, 1, 1, 0, 0,\n",
       "       1, 1, 1, 1, 1, 1, 1, 0, 0, 1, 1, 1, 1, 0, 1, 0, 1, 1, 1, 1, 1, 0,\n",
       "       1, 1, 1, 0, 1, 1, 1, 1, 1, 0, 0, 0, 0, 0, 1, 0, 0, 1, 1, 1, 1, 1,\n",
       "       0, 0, 0, 0, 1, 0, 1, 1, 1, 1, 1, 1, 1, 0, 1, 1, 1, 1, 0, 0, 1, 0,\n",
       "       0, 1, 0, 1, 1, 1, 1, 1, 1, 1, 1, 1, 1, 1, 1, 0, 0, 1, 1, 1, 1, 1,\n",
       "       1, 1, 0, 1, 0, 1, 0, 1, 0, 1, 1, 1, 1, 1, 1, 1, 0, 1, 1, 1, 0, 0,\n",
       "       0, 1, 0, 1, 0, 1, 0, 0, 1, 0, 0, 0, 0, 0, 1, 0, 0, 0, 0, 0, 0, 1,\n",
       "       1, 1, 1, 0, 1, 0, 1, 1, 1, 1, 1, 1, 1, 1, 1, 1, 1, 1, 1, 1, 1, 1,\n",
       "       1, 0, 1, 1, 1, 1, 1, 1, 1, 1, 1, 1, 1, 1, 1, 1, 1, 0, 1, 1, 1, 1,\n",
       "       1, 1, 1, 1, 0, 1, 1, 1, 1, 1, 1, 1, 1, 1, 1, 1, 1, 1, 1, 1, 1, 1,\n",
       "       1, 1, 1, 1, 1, 1, 1, 1, 1, 1, 1, 1, 1, 1, 1, 1, 1, 1, 1, 1, 1, 1,\n",
       "       1, 1, 1, 1, 1, 1, 1, 1, 1, 1, 1, 1, 1, 1, 1, 1, 1, 1, 1, 1, 1, 1,\n",
       "       1, 1, 1, 1, 0, 0, 1, 1, 1], dtype=int64)"
      ]
     },
     "execution_count": 12,
     "metadata": {},
     "output_type": "execute_result"
    }
   ],
   "source": [
    "cluster_labels"
   ]
  },
  {
   "cell_type": "code",
   "execution_count": 13,
   "id": "f741a196",
   "metadata": {},
   "outputs": [
    {
     "data": {
      "application/vnd.microsoft.datawrangler.viewer.v0+json": {
       "columns": [
        {
         "name": "index",
         "rawType": "int64",
         "type": "integer"
        },
        {
         "name": "Mass",
         "rawType": "float64",
         "type": "float"
        },
        {
         "name": "Radius",
         "rawType": "float64",
         "type": "float"
        },
        {
         "name": "Temperature",
         "rawType": "float64",
         "type": "float"
        },
        {
         "name": "Orbital Period",
         "rawType": "float64",
         "type": "float"
        },
        {
         "name": "Stellar Temperature",
         "rawType": "float64",
         "type": "float"
        },
        {
         "name": "Cluster",
         "rawType": "int64",
         "type": "integer"
        }
       ],
       "ref": "5a6edbd2-3e1f-4e1b-9ee7-dc3d1e387c6f",
       "rows": [
        [
         "0",
         "3932.0",
         "21.59",
         "2001.0",
         "4.2889731",
         "6935.0",
         "1"
        ],
        [
         "1",
         "2479.0615746",
         "20.8487041",
         "1800.0",
         "8040000.0",
         "2320.0",
         "2"
        ],
        [
         "2",
         "327.35",
         "16.7",
         "1898.0",
         "1.5089557",
         "5950.0",
         "1"
        ],
        [
         "3",
         "874.0",
         "10.87",
         "600.0",
         "13.2406",
         "5075.0",
         "1"
        ],
        [
         "4",
         "740.51",
         "16.03",
         "1657.0",
         "2.99433",
         "6440.0",
         "1"
        ],
        [
         "5",
         "291.438",
         "16.14",
         "1442.0",
         "2.828042",
         "5675.0",
         "1"
        ],
        [
         "6",
         "415.704",
         "9.92",
         "1700.0",
         "4.03519",
         "5945.0",
         "1"
        ],
        [
         "7",
         "2415.4",
         "12.22",
         "1952.0",
         "1.51214",
         "6035.0",
         "1"
        ],
        [
         "8",
         "772.29",
         "11.43",
         "1626.0",
         "3.7681",
         "5740.0",
         "1"
        ],
        [
         "9",
         "1102.82",
         "14.68",
         "1550.0",
         "1.9000693",
         "5440.0",
         "1"
        ],
        [
         "10",
         "352.78",
         "14.46",
         "2000.0",
         "3.89713",
         "6090.0",
         "1"
        ],
        [
         "11",
         "12.2",
         "4.88",
         "885.0",
         "9.75598",
         "5939.0",
         "0"
        ],
        [
         "12",
         "889.9",
         "11.77",
         "1660.0",
         "3.6313",
         "5900.0",
         "1"
        ],
        [
         "13",
         "5.7",
         "3.7",
         "1070.0",
         "5.1134",
         "4950.0",
         "0"
        ],
        [
         "14",
         "28.0",
         "5.0",
         "850.0",
         "11.759",
         "4950.0",
         "0"
        ],
        [
         "15",
         "85.81",
         "12.11",
         "1330.0",
         "4.86069",
         "6040.0",
         "1"
        ],
        [
         "16",
         "165.26",
         "14.12",
         "1600.0",
         "4.20474",
         "5590.0",
         "1"
        ],
        [
         "17",
         "3302.11",
         "11.287",
         "1500.0",
         "3.57532",
         "5900.0",
         "1"
        ],
        [
         "18",
         "47.6745",
         "6.38913",
         "938.0",
         "6.71837",
         "5970.0",
         "0"
        ],
        [
         "19",
         "349.6112477",
         "18.83108758",
         "1747.0",
         "3.22748",
         "6390.0",
         "1"
        ],
        [
         "20",
         "216.12331676",
         "15.80466279",
         "1567.0",
         "5.616531",
         "6730.0",
         "1"
        ],
        [
         "21",
         "228.83",
         "13.34",
         "1074.0",
         "9.20205",
         "6190.0",
         "1"
        ],
        [
         "22",
         "148.42",
         "15.558",
         "1438.0",
         "4.0378962",
         "6100.0",
         "1"
        ],
        [
         "23",
         "940.74",
         "13.068",
         "1017.0",
         "8.886593",
         "6090.0",
         "1"
        ],
        [
         "24",
         "266.9772",
         "11.948794",
         "420.0",
         "95.272656",
         "5625.0",
         "1"
        ],
        [
         "25",
         "7.67",
         "1.565",
         "2038.0",
         "0.87724",
         "5679.0",
         "0"
        ],
        [
         "26",
         "7.8",
         "1.676",
         "2299.0",
         "0.5713127",
         "5578.0",
         "0"
        ],
        [
         "27",
         "7.32",
         "2.84",
         "804.0",
         "13.33989",
         "5578.0",
         "0"
        ],
        [
         "28",
         "10.4",
         "2.332",
         "804.0",
         "16.141132",
         "5868.0",
         "0"
        ],
        [
         "29",
         "953.49",
         "11.780659",
         "1401.0",
         "6.180235",
         "6202.0",
         "1"
        ],
        [
         "30",
         "4131.79",
         "12.44199",
         "183.0",
         "3650.0",
         "4898.0",
         "1"
        ],
        [
         "31",
         "8.75",
         "1.95",
         "1616.0",
         "3.5951",
         "5430.0",
         "0"
        ],
        [
         "32",
         "14.67",
         "3.67",
         "990.0",
         "15.624",
         "5430.0",
         "0"
        ],
        [
         "33",
         "10.18",
         "3.94",
         "752.0",
         "35.747",
         "5430.0",
         "0"
        ],
        [
         "34",
         "4.0",
         "1.9",
         "440.6",
         "5.7459982",
         "3395.0",
         "0"
        ],
        [
         "35",
         "1.83704819",
         "1.19151465",
         "583.8",
         "1.62892911",
         "3229.0",
         "0"
        ],
        [
         "36",
         "8.41",
         "2.733",
         "567.0",
         "1.580404531",
         "3101.0",
         "0"
        ],
        [
         "37",
         "22.7",
         "2.61",
         "422.0",
         "35.61253",
         "4640.0",
         "0"
        ],
        [
         "38",
         "3.34",
         "2.13",
         "693.0",
         "2.8531054",
         "3556.0",
         "0"
        ],
        [
         "39",
         "13.9",
         "4.57",
         "593.5",
         "3.3366496",
         "3600.0",
         "0"
        ],
        [
         "40",
         "1.86",
         "1.264",
         "773.0",
         "1.1980035",
         "3347.0",
         "0"
        ],
        [
         "41",
         "0.633",
         "0.699",
         "1365.0",
         "0.3219225",
         "3522.0",
         "0"
        ],
        [
         "42",
         "1.75",
         "1.09",
         "568.0",
         "2.616235",
         "3384.0",
         "0"
        ],
        [
         "43",
         "7.6",
         "2.63",
         "308.6",
         "50.8",
         "4120.0",
         "0"
        ],
        [
         "44",
         "53.83",
         "8.4",
         "124.7",
         "749.83",
         "4120.0",
         "1"
        ],
        [
         "45",
         "2.77",
         "1.289",
         "696.3",
         "1.46712127",
         "3317.0",
         "0"
        ],
        [
         "46",
         "1.9",
         "1.331",
         "940.0",
         "0.9263237",
         "3600.0",
         "0"
        ],
        [
         "47",
         "4.28",
         "1.44",
         "1035.01",
         "1.208974",
         "4236.0",
         "0"
        ],
        [
         "48",
         "1.86",
         "1.13",
         "715.94",
         "3.648103",
         "4236.0",
         "0"
        ],
        [
         "49",
         "3.02",
         "1.98",
         "675.0",
         "6.20183",
         "4236.0",
         "0"
        ]
       ],
       "shape": {
        "columns": 6,
        "rows": 933
       }
      },
      "text/html": [
       "<div>\n",
       "<style scoped>\n",
       "    .dataframe tbody tr th:only-of-type {\n",
       "        vertical-align: middle;\n",
       "    }\n",
       "\n",
       "    .dataframe tbody tr th {\n",
       "        vertical-align: top;\n",
       "    }\n",
       "\n",
       "    .dataframe thead th {\n",
       "        text-align: right;\n",
       "    }\n",
       "</style>\n",
       "<table border=\"1\" class=\"dataframe\">\n",
       "  <thead>\n",
       "    <tr style=\"text-align: right;\">\n",
       "      <th></th>\n",
       "      <th>Mass</th>\n",
       "      <th>Radius</th>\n",
       "      <th>Temperature</th>\n",
       "      <th>Orbital Period</th>\n",
       "      <th>Stellar Temperature</th>\n",
       "      <th>Cluster</th>\n",
       "    </tr>\n",
       "  </thead>\n",
       "  <tbody>\n",
       "    <tr>\n",
       "      <th>0</th>\n",
       "      <td>3932.000000</td>\n",
       "      <td>21.590000</td>\n",
       "      <td>2001.0</td>\n",
       "      <td>4.288973e+00</td>\n",
       "      <td>6935.0</td>\n",
       "      <td>1</td>\n",
       "    </tr>\n",
       "    <tr>\n",
       "      <th>1</th>\n",
       "      <td>2479.061575</td>\n",
       "      <td>20.848704</td>\n",
       "      <td>1800.0</td>\n",
       "      <td>8.040000e+06</td>\n",
       "      <td>2320.0</td>\n",
       "      <td>2</td>\n",
       "    </tr>\n",
       "    <tr>\n",
       "      <th>2</th>\n",
       "      <td>327.350000</td>\n",
       "      <td>16.700000</td>\n",
       "      <td>1898.0</td>\n",
       "      <td>1.508956e+00</td>\n",
       "      <td>5950.0</td>\n",
       "      <td>1</td>\n",
       "    </tr>\n",
       "    <tr>\n",
       "      <th>3</th>\n",
       "      <td>874.000000</td>\n",
       "      <td>10.870000</td>\n",
       "      <td>600.0</td>\n",
       "      <td>1.324060e+01</td>\n",
       "      <td>5075.0</td>\n",
       "      <td>1</td>\n",
       "    </tr>\n",
       "    <tr>\n",
       "      <th>4</th>\n",
       "      <td>740.510000</td>\n",
       "      <td>16.030000</td>\n",
       "      <td>1657.0</td>\n",
       "      <td>2.994330e+00</td>\n",
       "      <td>6440.0</td>\n",
       "      <td>1</td>\n",
       "    </tr>\n",
       "    <tr>\n",
       "      <th>...</th>\n",
       "      <td>...</td>\n",
       "      <td>...</td>\n",
       "      <td>...</td>\n",
       "      <td>...</td>\n",
       "      <td>...</td>\n",
       "      <td>...</td>\n",
       "    </tr>\n",
       "    <tr>\n",
       "      <th>928</th>\n",
       "      <td>2.530000</td>\n",
       "      <td>1.240000</td>\n",
       "      <td>996.0</td>\n",
       "      <td>5.734745e-01</td>\n",
       "      <td>3542.0</td>\n",
       "      <td>0</td>\n",
       "    </tr>\n",
       "    <tr>\n",
       "      <th>929</th>\n",
       "      <td>6.270000</td>\n",
       "      <td>2.043000</td>\n",
       "      <td>789.0</td>\n",
       "      <td>6.001270e+00</td>\n",
       "      <td>4716.0</td>\n",
       "      <td>0</td>\n",
       "    </tr>\n",
       "    <tr>\n",
       "      <th>930</th>\n",
       "      <td>378.200000</td>\n",
       "      <td>12.780000</td>\n",
       "      <td>1230.0</td>\n",
       "      <td>4.187756e+00</td>\n",
       "      <td>5430.0</td>\n",
       "      <td>1</td>\n",
       "    </tr>\n",
       "    <tr>\n",
       "      <th>931</th>\n",
       "      <td>1398.452000</td>\n",
       "      <td>23.202630</td>\n",
       "      <td>1577.0</td>\n",
       "      <td>3.765001e+00</td>\n",
       "      <td>6720.0</td>\n",
       "      <td>1</td>\n",
       "    </tr>\n",
       "    <tr>\n",
       "      <th>932</th>\n",
       "      <td>225.341470</td>\n",
       "      <td>15.389957</td>\n",
       "      <td>1743.0</td>\n",
       "      <td>2.864142e+00</td>\n",
       "      <td>6250.0</td>\n",
       "      <td>1</td>\n",
       "    </tr>\n",
       "  </tbody>\n",
       "</table>\n",
       "<p>933 rows × 6 columns</p>\n",
       "</div>"
      ],
      "text/plain": [
       "            Mass     Radius  Temperature  Orbital Period  Stellar Temperature  \\\n",
       "0    3932.000000  21.590000       2001.0    4.288973e+00               6935.0   \n",
       "1    2479.061575  20.848704       1800.0    8.040000e+06               2320.0   \n",
       "2     327.350000  16.700000       1898.0    1.508956e+00               5950.0   \n",
       "3     874.000000  10.870000        600.0    1.324060e+01               5075.0   \n",
       "4     740.510000  16.030000       1657.0    2.994330e+00               6440.0   \n",
       "..           ...        ...          ...             ...                  ...   \n",
       "928     2.530000   1.240000        996.0    5.734745e-01               3542.0   \n",
       "929     6.270000   2.043000        789.0    6.001270e+00               4716.0   \n",
       "930   378.200000  12.780000       1230.0    4.187756e+00               5430.0   \n",
       "931  1398.452000  23.202630       1577.0    3.765001e+00               6720.0   \n",
       "932   225.341470  15.389957       1743.0    2.864142e+00               6250.0   \n",
       "\n",
       "     Cluster  \n",
       "0          1  \n",
       "1          2  \n",
       "2          1  \n",
       "3          1  \n",
       "4          1  \n",
       "..       ...  \n",
       "928        0  \n",
       "929        0  \n",
       "930        1  \n",
       "931        1  \n",
       "932        1  \n",
       "\n",
       "[933 rows x 6 columns]"
      ]
     },
     "execution_count": 13,
     "metadata": {},
     "output_type": "execute_result"
    }
   ],
   "source": [
    "X"
   ]
  },
  {
   "cell_type": "code",
   "execution_count": 14,
   "id": "0440ed53",
   "metadata": {},
   "outputs": [
    {
     "name": "stdout",
     "output_type": "stream",
     "text": [
      "--- Cluster Profiles (Average Values) ---\n",
      "            Mass  Radius  Temperature  Orbital Period  Stellar Temperature\n",
      "Cluster                                                                   \n",
      "0          11.02    2.60       870.74           14.15              4929.72\n",
      "1         548.50   12.91      1321.96           28.28              5672.47\n",
      "2        2479.06   20.85      1800.00      8040000.00              2320.00\n"
     ]
    }
   ],
   "source": [
    "# Calculate the average values for each feature within each cluster\n",
    "cluster_profiles = X.groupby('Cluster').mean().round(2)\n",
    "\n",
    "print(\"--- Cluster Profiles (Average Values) ---\")\n",
    "print(cluster_profiles)"
   ]
  },
  {
   "cell_type": "code",
   "execution_count": 15,
   "id": "05886db3",
   "metadata": {},
   "outputs": [
    {
     "name": "stdout",
     "output_type": "stream",
     "text": [
      "\n",
      "Saved the final results with cluster assignments to 'exoplanets_clustered_final.csv'.\n"
     ]
    }
   ],
   "source": [
    "X.to_csv('exoplanets_clustered_final.csv', index=False)\n",
    "print(\"\\nSaved the final results with cluster assignments to 'exoplanets_clustered_final.csv'.\")"
   ]
  },
  {
   "cell_type": "code",
   "execution_count": 16,
   "id": "b88c7606",
   "metadata": {},
   "outputs": [],
   "source": [
    "import joblib\n"
   ]
  },
  {
   "cell_type": "code",
   "execution_count": 19,
   "id": "04c6ca4d",
   "metadata": {},
   "outputs": [
    {
     "data": {
      "text/plain": [
       "['gmm_model_1.joblib']"
      ]
     },
     "execution_count": 19,
     "metadata": {},
     "output_type": "execute_result"
    }
   ],
   "source": [
    "joblib.dump(gmm,'gmm_model_1.joblib')"
   ]
  },
  {
   "cell_type": "code",
   "execution_count": 20,
   "id": "53225109",
   "metadata": {},
   "outputs": [
    {
     "data": {
      "text/plain": [
       "['scaler.joblib']"
      ]
     },
     "execution_count": 20,
     "metadata": {},
     "output_type": "execute_result"
    }
   ],
   "source": [
    "joblib.dump(sc,'scaler.joblib')"
   ]
  },
  {
   "cell_type": "code",
   "execution_count": 21,
   "id": "440cbe12",
   "metadata": {},
   "outputs": [],
   "source": [
    "cluster_profiles.to_csv('cluster_profiles.csv')"
   ]
  },
  {
   "cell_type": "code",
   "execution_count": null,
   "id": "2744d785",
   "metadata": {},
   "outputs": [],
   "source": []
  }
 ],
 "metadata": {
  "kernelspec": {
   "display_name": "Python 3",
   "language": "python",
   "name": "python3"
  },
  "language_info": {
   "codemirror_mode": {
    "name": "ipython",
    "version": 3
   },
   "file_extension": ".py",
   "mimetype": "text/x-python",
   "name": "python",
   "nbconvert_exporter": "python",
   "pygments_lexer": "ipython3",
   "version": "3.12.10"
  }
 },
 "nbformat": 4,
 "nbformat_minor": 5
}
